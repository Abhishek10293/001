{
  "nbformat": 4,
  "nbformat_minor": 0,
  "metadata": {
    "colab": {
      "provenance": [],
      "gpuType": "T4",
      "authorship_tag": "ABX9TyPYNGZLSMkUBzhnEy5ROQV1",
      "include_colab_link": true
    },
    "kernelspec": {
      "name": "python3",
      "display_name": "Python 3"
    },
    "language_info": {
      "name": "python"
    },
    "accelerator": "GPU"
  },
  "cells": [
    {
      "cell_type": "markdown",
      "metadata": {
        "id": "view-in-github",
        "colab_type": "text"
      },
      "source": [
        "<a href=\"https://colab.research.google.com/github/Abhishek10293/001/blob/master/Copy_of_Untitled7.ipynb\" target=\"_parent\"><img src=\"https://colab.research.google.com/assets/colab-badge.svg\" alt=\"Open In Colab\"/></a>"
      ]
    },
    {
      "cell_type": "code",
      "execution_count": null,
      "metadata": {
        "colab": {
          "base_uri": "https://localhost:8080/"
        },
        "id": "npLn5sMVt6EU",
        "outputId": "11c6f75a-baad-4ee5-a5af-89e0daf951d4"
      },
      "outputs": [
        {
          "output_type": "stream",
          "name": "stdout",
          "text": [
            "Cloning into 'Night-Vision-Enhancement'...\n",
            "remote: Enumerating objects: 67, done.\u001b[K\n",
            "remote: Counting objects: 100% (67/67), done.\u001b[K\n",
            "remote: Compressing objects: 100% (64/64), done.\u001b[K\n",
            "remote: Total 67 (delta 10), reused 37 (delta 0), pack-reused 0 (from 0)\u001b[K\n",
            "Receiving objects: 100% (67/67), 4.60 MiB | 16.02 MiB/s, done.\n",
            "Resolving deltas: 100% (10/10), done.\n"
          ]
        }
      ],
      "source": [
        "!git clone https://github.com/Abhishek10293/Night-Vision-Enhancement.git\n"
      ]
    },
    {
      "cell_type": "code",
      "source": [
        "%cd Night-Vision-Enhancement/Project/\n"
      ],
      "metadata": {
        "colab": {
          "base_uri": "https://localhost:8080/"
        },
        "id": "204zk2GxuPo8",
        "outputId": "85c36d21-f119-4a39-9635-89afc893636c"
      },
      "execution_count": null,
      "outputs": [
        {
          "output_type": "stream",
          "name": "stdout",
          "text": [
            "/content/Night-Vision-Enhancement/Project\n"
          ]
        }
      ]
    },
    {
      "cell_type": "code",
      "source": [
        "!pip install -r requirements.txt\n"
      ],
      "metadata": {
        "colab": {
          "base_uri": "https://localhost:8080/"
        },
        "id": "B84kegEvuQs4",
        "outputId": "f12c43b0-5c72-414b-f926-73e3c3c5173e"
      },
      "execution_count": null,
      "outputs": [
        {
          "output_type": "stream",
          "name": "stdout",
          "text": [
            "Requirement already satisfied: tensorflow in /usr/local/lib/python3.11/dist-packages (from -r requirements.txt (line 1)) (2.18.0)\n",
            "Requirement already satisfied: keras in /usr/local/lib/python3.11/dist-packages (from -r requirements.txt (line 2)) (3.8.0)\n",
            "Requirement already satisfied: numpy in /usr/local/lib/python3.11/dist-packages (from -r requirements.txt (line 3)) (2.0.2)\n",
            "Requirement already satisfied: pillow in /usr/local/lib/python3.11/dist-packages (from -r requirements.txt (line 4)) (11.2.1)\n",
            "Requirement already satisfied: matplotlib in /usr/local/lib/python3.11/dist-packages (from -r requirements.txt (line 5)) (3.10.0)\n",
            "Requirement already satisfied: requests>=2.27.1 in /usr/local/lib/python3.11/dist-packages (from -r requirements.txt (line 6)) (2.32.3)\n",
            "Requirement already satisfied: absl-py>=1.0.0 in /usr/local/lib/python3.11/dist-packages (from tensorflow->-r requirements.txt (line 1)) (1.4.0)\n",
            "Requirement already satisfied: astunparse>=1.6.0 in /usr/local/lib/python3.11/dist-packages (from tensorflow->-r requirements.txt (line 1)) (1.6.3)\n",
            "Requirement already satisfied: flatbuffers>=24.3.25 in /usr/local/lib/python3.11/dist-packages (from tensorflow->-r requirements.txt (line 1)) (25.2.10)\n",
            "Requirement already satisfied: gast!=0.5.0,!=0.5.1,!=0.5.2,>=0.2.1 in /usr/local/lib/python3.11/dist-packages (from tensorflow->-r requirements.txt (line 1)) (0.6.0)\n",
            "Requirement already satisfied: google-pasta>=0.1.1 in /usr/local/lib/python3.11/dist-packages (from tensorflow->-r requirements.txt (line 1)) (0.2.0)\n",
            "Requirement already satisfied: libclang>=13.0.0 in /usr/local/lib/python3.11/dist-packages (from tensorflow->-r requirements.txt (line 1)) (18.1.1)\n",
            "Requirement already satisfied: opt-einsum>=2.3.2 in /usr/local/lib/python3.11/dist-packages (from tensorflow->-r requirements.txt (line 1)) (3.4.0)\n",
            "Requirement already satisfied: packaging in /usr/local/lib/python3.11/dist-packages (from tensorflow->-r requirements.txt (line 1)) (24.2)\n",
            "Requirement already satisfied: protobuf!=4.21.0,!=4.21.1,!=4.21.2,!=4.21.3,!=4.21.4,!=4.21.5,<6.0.0dev,>=3.20.3 in /usr/local/lib/python3.11/dist-packages (from tensorflow->-r requirements.txt (line 1)) (5.29.5)\n",
            "Requirement already satisfied: setuptools in /usr/local/lib/python3.11/dist-packages (from tensorflow->-r requirements.txt (line 1)) (75.2.0)\n",
            "Requirement already satisfied: six>=1.12.0 in /usr/local/lib/python3.11/dist-packages (from tensorflow->-r requirements.txt (line 1)) (1.17.0)\n",
            "Requirement already satisfied: termcolor>=1.1.0 in /usr/local/lib/python3.11/dist-packages (from tensorflow->-r requirements.txt (line 1)) (3.1.0)\n",
            "Requirement already satisfied: typing-extensions>=3.6.6 in /usr/local/lib/python3.11/dist-packages (from tensorflow->-r requirements.txt (line 1)) (4.14.0)\n",
            "Requirement already satisfied: wrapt>=1.11.0 in /usr/local/lib/python3.11/dist-packages (from tensorflow->-r requirements.txt (line 1)) (1.17.2)\n",
            "Requirement already satisfied: grpcio<2.0,>=1.24.3 in /usr/local/lib/python3.11/dist-packages (from tensorflow->-r requirements.txt (line 1)) (1.72.1)\n",
            "Requirement already satisfied: tensorboard<2.19,>=2.18 in /usr/local/lib/python3.11/dist-packages (from tensorflow->-r requirements.txt (line 1)) (2.18.0)\n",
            "Requirement already satisfied: h5py>=3.11.0 in /usr/local/lib/python3.11/dist-packages (from tensorflow->-r requirements.txt (line 1)) (3.13.0)\n",
            "Requirement already satisfied: ml-dtypes<0.5.0,>=0.4.0 in /usr/local/lib/python3.11/dist-packages (from tensorflow->-r requirements.txt (line 1)) (0.4.1)\n",
            "Requirement already satisfied: tensorflow-io-gcs-filesystem>=0.23.1 in /usr/local/lib/python3.11/dist-packages (from tensorflow->-r requirements.txt (line 1)) (0.37.1)\n",
            "Requirement already satisfied: rich in /usr/local/lib/python3.11/dist-packages (from keras->-r requirements.txt (line 2)) (13.9.4)\n",
            "Requirement already satisfied: namex in /usr/local/lib/python3.11/dist-packages (from keras->-r requirements.txt (line 2)) (0.1.0)\n",
            "Requirement already satisfied: optree in /usr/local/lib/python3.11/dist-packages (from keras->-r requirements.txt (line 2)) (0.16.0)\n",
            "Requirement already satisfied: contourpy>=1.0.1 in /usr/local/lib/python3.11/dist-packages (from matplotlib->-r requirements.txt (line 5)) (1.3.2)\n",
            "Requirement already satisfied: cycler>=0.10 in /usr/local/lib/python3.11/dist-packages (from matplotlib->-r requirements.txt (line 5)) (0.12.1)\n",
            "Requirement already satisfied: fonttools>=4.22.0 in /usr/local/lib/python3.11/dist-packages (from matplotlib->-r requirements.txt (line 5)) (4.58.1)\n",
            "Requirement already satisfied: kiwisolver>=1.3.1 in /usr/local/lib/python3.11/dist-packages (from matplotlib->-r requirements.txt (line 5)) (1.4.8)\n",
            "Requirement already satisfied: pyparsing>=2.3.1 in /usr/local/lib/python3.11/dist-packages (from matplotlib->-r requirements.txt (line 5)) (3.2.3)\n",
            "Requirement already satisfied: python-dateutil>=2.7 in /usr/local/lib/python3.11/dist-packages (from matplotlib->-r requirements.txt (line 5)) (2.9.0.post0)\n",
            "Requirement already satisfied: charset-normalizer<4,>=2 in /usr/local/lib/python3.11/dist-packages (from requests>=2.27.1->-r requirements.txt (line 6)) (3.4.2)\n",
            "Requirement already satisfied: idna<4,>=2.5 in /usr/local/lib/python3.11/dist-packages (from requests>=2.27.1->-r requirements.txt (line 6)) (3.10)\n",
            "Requirement already satisfied: urllib3<3,>=1.21.1 in /usr/local/lib/python3.11/dist-packages (from requests>=2.27.1->-r requirements.txt (line 6)) (2.4.0)\n",
            "Requirement already satisfied: certifi>=2017.4.17 in /usr/local/lib/python3.11/dist-packages (from requests>=2.27.1->-r requirements.txt (line 6)) (2025.4.26)\n",
            "Requirement already satisfied: wheel<1.0,>=0.23.0 in /usr/local/lib/python3.11/dist-packages (from astunparse>=1.6.0->tensorflow->-r requirements.txt (line 1)) (0.45.1)\n",
            "Requirement already satisfied: markdown>=2.6.8 in /usr/local/lib/python3.11/dist-packages (from tensorboard<2.19,>=2.18->tensorflow->-r requirements.txt (line 1)) (3.8)\n",
            "Requirement already satisfied: tensorboard-data-server<0.8.0,>=0.7.0 in /usr/local/lib/python3.11/dist-packages (from tensorboard<2.19,>=2.18->tensorflow->-r requirements.txt (line 1)) (0.7.2)\n",
            "Requirement already satisfied: werkzeug>=1.0.1 in /usr/local/lib/python3.11/dist-packages (from tensorboard<2.19,>=2.18->tensorflow->-r requirements.txt (line 1)) (3.1.3)\n",
            "Requirement already satisfied: markdown-it-py>=2.2.0 in /usr/local/lib/python3.11/dist-packages (from rich->keras->-r requirements.txt (line 2)) (3.0.0)\n",
            "Requirement already satisfied: pygments<3.0.0,>=2.13.0 in /usr/local/lib/python3.11/dist-packages (from rich->keras->-r requirements.txt (line 2)) (2.19.1)\n",
            "Requirement already satisfied: mdurl~=0.1 in /usr/local/lib/python3.11/dist-packages (from markdown-it-py>=2.2.0->rich->keras->-r requirements.txt (line 2)) (0.1.2)\n",
            "Requirement already satisfied: MarkupSafe>=2.1.1 in /usr/local/lib/python3.11/dist-packages (from werkzeug>=1.0.1->tensorboard<2.19,>=2.18->tensorflow->-r requirements.txt (line 1)) (3.0.2)\n"
          ]
        }
      ]
    },
    {
      "cell_type": "code",
      "source": [
        "import tensorflow as tf\n",
        "\n",
        "print(\"TensorFlow version:\", tf.__version__)\n",
        "print(\"GPU available:\", tf.config.list_physical_devices('GPU'))\n"
      ],
      "metadata": {
        "colab": {
          "base_uri": "https://localhost:8080/"
        },
        "id": "-_1PVIdauVIw",
        "outputId": "256535d8-feb0-4f3d-877b-6afb51629206"
      },
      "execution_count": null,
      "outputs": [
        {
          "output_type": "stream",
          "name": "stdout",
          "text": [
            "TensorFlow version: 2.18.0\n",
            "GPU available: [PhysicalDevice(name='/physical_device:GPU:0', device_type='GPU')]\n"
          ]
        }
      ]
    },
    {
      "cell_type": "code",
      "source": [
        "!python main.py\n"
      ],
      "metadata": {
        "colab": {
          "base_uri": "https://localhost:8080/"
        },
        "id": "1mmFf2AMuZnc",
        "outputId": "eb874ccf-d21d-42a6-9bc7-114e19a58a0f"
      },
      "execution_count": null,
      "outputs": [
        {
          "output_type": "stream",
          "name": "stdout",
          "text": [
            "2025-06-14 18:35:26.746560: E external/local_xla/xla/stream_executor/cuda/cuda_fft.cc:477] Unable to register cuFFT factory: Attempting to register factory for plugin cuFFT when one has already been registered\n",
            "WARNING: All log messages before absl::InitializeLog() is called are written to STDERR\n",
            "E0000 00:00:1749926126.767217    1063 cuda_dnn.cc:8310] Unable to register cuDNN factory: Attempting to register factory for plugin cuDNN when one has already been registered\n",
            "E0000 00:00:1749926126.773323    1063 cuda_blas.cc:1418] Unable to register cuBLAS factory: Attempting to register factory for plugin cuBLAS when one has already been registered\n",
            "2025-06-14 18:35:35.991204: W tensorflow/core/common_runtime/gpu/gpu_bfc_allocator.cc:47] Overriding orig_value setting because the TF_FORCE_GPU_ALLOW_GROWTH environment variable is set. Original config value was 0.\n",
            "I0000 00:00:1749926135.993011    1063 gpu_device.cc:2022] Created device /job:localhost/replica:0/task:0/device:GPU:0 with 13942 MB memory:  -> device: 0, name: Tesla T4, pci bus id: 0000:00:04.0, compute capability: 7.5\n",
            "Epoch 1/50\n",
            "WARNING: All log messages before absl::InitializeLog() is called are written to STDERR\n",
            "I0000 00:00:1749926199.925549    1119 service.cc:148] XLA service 0x7adf1c003fa0 initialized for platform CUDA (this does not guarantee that XLA will be used). Devices:\n",
            "I0000 00:00:1749926199.925688    1119 service.cc:156]   StreamExecutor device (0): Tesla T4, Compute Capability 7.5\n",
            "W0000 00:00:1749926204.775065    1119 assert_op.cc:38] Ignoring Assert operator PSNR/Assert/Assert\n",
            "W0000 00:00:1749926204.775201    1119 assert_op.cc:38] Ignoring Assert operator PSNR/Assert_1/Assert\n",
            "I0000 00:00:1749926209.511392    1119 cuda_dnn.cc:529] Loaded cuDNN version 90300\n",
            "I0000 00:00:1749926236.629365    1119 device_compiler.h:188] Compiled cluster using XLA!  This line is logged at most once for the lifetime of the process.\n",
            "\u001b[1m75/75\u001b[0m \u001b[32m━━━━━━━━━━━━━━━━━━━━\u001b[0m\u001b[37m\u001b[0m \u001b[1m0s\u001b[0m 145ms/step - loss: 0.3021 - peak_signal_noise_ratio: 59.1348W0000 00:00:1749926253.135711    1119 assert_op.cc:38] Ignoring Assert operator PSNR/Assert/Assert\n",
            "W0000 00:00:1749926253.135817    1119 assert_op.cc:38] Ignoring Assert operator PSNR/Assert_1/Assert\n",
            "\u001b[1m75/75\u001b[0m \u001b[32m━━━━━━━━━━━━━━━━━━━━\u001b[0m\u001b[37m\u001b[0m \u001b[1m119s\u001b[0m 289ms/step - loss: 0.3012 - peak_signal_noise_ratio: 59.1638 - val_loss: 0.1355 - val_peak_signal_noise_ratio: 64.8369 - learning_rate: 1.0000e-04\n",
            "Epoch 2/50\n",
            "\u001b[1m75/75\u001b[0m \u001b[32m━━━━━━━━━━━━━━━━━━━━\u001b[0m\u001b[37m\u001b[0m \u001b[1m16s\u001b[0m 216ms/step - loss: 0.1802 - peak_signal_noise_ratio: 62.7830 - val_loss: 0.1264 - val_peak_signal_noise_ratio: 65.4224 - learning_rate: 1.0000e-04\n",
            "Epoch 3/50\n",
            "\u001b[1m75/75\u001b[0m \u001b[32m━━━━━━━━━━━━━━━━━━━━\u001b[0m\u001b[37m\u001b[0m \u001b[1m18s\u001b[0m 186ms/step - loss: 0.1612 - peak_signal_noise_ratio: 63.7644 - val_loss: 0.1219 - val_peak_signal_noise_ratio: 65.9605 - learning_rate: 1.0000e-04\n",
            "Epoch 4/50\n",
            "\u001b[1m75/75\u001b[0m \u001b[32m━━━━━━━━━━━━━━━━━━━━\u001b[0m\u001b[37m\u001b[0m \u001b[1m21s\u001b[0m 187ms/step - loss: 0.1568 - peak_signal_noise_ratio: 63.9856 - val_loss: 0.1144 - val_peak_signal_noise_ratio: 66.4801 - learning_rate: 1.0000e-04\n",
            "Epoch 5/50\n",
            "\u001b[1m75/75\u001b[0m \u001b[32m━━━━━━━━━━━━━━━━━━━━\u001b[0m\u001b[37m\u001b[0m \u001b[1m23s\u001b[0m 222ms/step - loss: 0.1541 - peak_signal_noise_ratio: 64.3309 - val_loss: 0.1257 - val_peak_signal_noise_ratio: 66.1402 - learning_rate: 1.0000e-04\n",
            "Epoch 6/50\n",
            "\u001b[1m75/75\u001b[0m \u001b[32m━━━━━━━━━━━━━━━━━━━━\u001b[0m\u001b[37m\u001b[0m \u001b[1m18s\u001b[0m 182ms/step - loss: 0.1479 - peak_signal_noise_ratio: 64.4778 - val_loss: 0.1194 - val_peak_signal_noise_ratio: 66.3375 - learning_rate: 1.0000e-04\n",
            "Epoch 7/50\n",
            "\u001b[1m75/75\u001b[0m \u001b[32m━━━━━━━━━━━━━━━━━━━━\u001b[0m\u001b[37m\u001b[0m \u001b[1m21s\u001b[0m 185ms/step - loss: 0.1702 - peak_signal_noise_ratio: 63.6552 - val_loss: 0.1163 - val_peak_signal_noise_ratio: 66.4779 - learning_rate: 1.0000e-04\n",
            "Epoch 8/50\n",
            "\u001b[1m75/75\u001b[0m \u001b[32m━━━━━━━━━━━━━━━━━━━━\u001b[0m\u001b[37m\u001b[0m \u001b[1m20s\u001b[0m 180ms/step - loss: 0.1612 - peak_signal_noise_ratio: 63.9812 - val_loss: 0.1224 - val_peak_signal_noise_ratio: 66.3243 - learning_rate: 1.0000e-04\n",
            "Epoch 9/50\n",
            "\u001b[1m75/75\u001b[0m \u001b[32m━━━━━━━━━━━━━━━━━━━━\u001b[0m\u001b[37m\u001b[0m \u001b[1m14s\u001b[0m 182ms/step - loss: 0.1577 - peak_signal_noise_ratio: 64.4035 - val_loss: 0.1036 - val_peak_signal_noise_ratio: 67.3296 - learning_rate: 1.0000e-04\n",
            "Epoch 10/50\n",
            "\u001b[1m75/75\u001b[0m \u001b[32m━━━━━━━━━━━━━━━━━━━━\u001b[0m\u001b[37m\u001b[0m \u001b[1m21s\u001b[0m 183ms/step - loss: 0.1537 - peak_signal_noise_ratio: 64.3185 - val_loss: 0.1181 - val_peak_signal_noise_ratio: 66.4939 - learning_rate: 1.0000e-04\n",
            "Epoch 11/50\n",
            "\u001b[1m75/75\u001b[0m \u001b[32m━━━━━━━━━━━━━━━━━━━━\u001b[0m\u001b[37m\u001b[0m \u001b[1m14s\u001b[0m 184ms/step - loss: 0.1533 - peak_signal_noise_ratio: 64.5599 - val_loss: 0.1102 - val_peak_signal_noise_ratio: 66.7919 - learning_rate: 1.0000e-04\n",
            "Epoch 12/50\n",
            "\u001b[1m75/75\u001b[0m \u001b[32m━━━━━━━━━━━━━━━━━━━━\u001b[0m\u001b[37m\u001b[0m \u001b[1m20s\u001b[0m 180ms/step - loss: 0.1416 - peak_signal_noise_ratio: 64.9322 - val_loss: 0.1105 - val_peak_signal_noise_ratio: 66.5230 - learning_rate: 1.0000e-04\n",
            "Epoch 13/50\n",
            "\u001b[1m75/75\u001b[0m \u001b[32m━━━━━━━━━━━━━━━━━━━━\u001b[0m\u001b[37m\u001b[0m \u001b[1m21s\u001b[0m 191ms/step - loss: 0.1448 - peak_signal_noise_ratio: 64.8598 - val_loss: 0.1088 - val_peak_signal_noise_ratio: 66.9314 - learning_rate: 1.0000e-04\n",
            "Epoch 14/50\n",
            "\u001b[1m75/75\u001b[0m \u001b[32m━━━━━━━━━━━━━━━━━━━━\u001b[0m\u001b[37m\u001b[0m \u001b[1m0s\u001b[0m 153ms/step - loss: 0.1455 - peak_signal_noise_ratio: 64.6819\n",
            "Epoch 14: ReduceLROnPlateau reducing learning rate to 4.999999873689376e-05.\n",
            "\u001b[1m75/75\u001b[0m \u001b[32m━━━━━━━━━━━━━━━━━━━━\u001b[0m\u001b[37m\u001b[0m \u001b[1m20s\u001b[0m 188ms/step - loss: 0.1454 - peak_signal_noise_ratio: 64.6880 - val_loss: 0.1104 - val_peak_signal_noise_ratio: 66.9692 - learning_rate: 1.0000e-04\n",
            "Epoch 15/50\n",
            "\u001b[1m75/75\u001b[0m \u001b[32m━━━━━━━━━━━━━━━━━━━━\u001b[0m\u001b[37m\u001b[0m \u001b[1m20s\u001b[0m 185ms/step - loss: 0.1462 - peak_signal_noise_ratio: 65.0555 - val_loss: 0.1091 - val_peak_signal_noise_ratio: 66.7977 - learning_rate: 5.0000e-05\n",
            "Epoch 16/50\n",
            "\u001b[1m75/75\u001b[0m \u001b[32m━━━━━━━━━━━━━━━━━━━━\u001b[0m\u001b[37m\u001b[0m \u001b[1m20s\u001b[0m 182ms/step - loss: 0.1455 - peak_signal_noise_ratio: 65.0001 - val_loss: 0.1118 - val_peak_signal_noise_ratio: 66.6344 - learning_rate: 5.0000e-05\n",
            "Epoch 17/50\n",
            "\u001b[1m75/75\u001b[0m \u001b[32m━━━━━━━━━━━━━━━━━━━━\u001b[0m\u001b[37m\u001b[0m \u001b[1m15s\u001b[0m 192ms/step - loss: 0.1335 - peak_signal_noise_ratio: 65.5639 - val_loss: 0.1079 - val_peak_signal_noise_ratio: 66.7571 - learning_rate: 5.0000e-05\n",
            "Epoch 18/50\n",
            "\u001b[1m75/75\u001b[0m \u001b[32m━━━━━━━━━━━━━━━━━━━━\u001b[0m\u001b[37m\u001b[0m \u001b[1m20s\u001b[0m 186ms/step - loss: 0.1382 - peak_signal_noise_ratio: 65.3408 - val_loss: 0.1099 - val_peak_signal_noise_ratio: 66.6362 - learning_rate: 5.0000e-05\n",
            "Epoch 19/50\n",
            "\u001b[1m75/75\u001b[0m \u001b[32m━━━━━━━━━━━━━━━━━━━━\u001b[0m\u001b[37m\u001b[0m \u001b[1m20s\u001b[0m 179ms/step - loss: 0.1369 - peak_signal_noise_ratio: 65.3984 - val_loss: 0.1006 - val_peak_signal_noise_ratio: 67.4065 - learning_rate: 5.0000e-05\n",
            "Epoch 20/50\n",
            "\u001b[1m75/75\u001b[0m \u001b[32m━━━━━━━━━━━━━━━━━━━━\u001b[0m\u001b[37m\u001b[0m \u001b[1m21s\u001b[0m 186ms/step - loss: 0.1333 - peak_signal_noise_ratio: 65.5934 - val_loss: 0.1048 - val_peak_signal_noise_ratio: 67.1157 - learning_rate: 5.0000e-05\n",
            "Epoch 21/50\n",
            "\u001b[1m75/75\u001b[0m \u001b[32m━━━━━━━━━━━━━━━━━━━━\u001b[0m\u001b[37m\u001b[0m \u001b[1m20s\u001b[0m 175ms/step - loss: 0.1317 - peak_signal_noise_ratio: 65.6741 - val_loss: 0.1080 - val_peak_signal_noise_ratio: 66.7321 - learning_rate: 5.0000e-05\n",
            "Epoch 22/50\n",
            "\u001b[1m75/75\u001b[0m \u001b[32m━━━━━━━━━━━━━━━━━━━━\u001b[0m\u001b[37m\u001b[0m \u001b[1m21s\u001b[0m 176ms/step - loss: 0.1272 - peak_signal_noise_ratio: 65.9483 - val_loss: 0.1114 - val_peak_signal_noise_ratio: 66.7400 - learning_rate: 5.0000e-05\n",
            "Epoch 23/50\n",
            "\u001b[1m75/75\u001b[0m \u001b[32m━━━━━━━━━━━━━━━━━━━━\u001b[0m\u001b[37m\u001b[0m \u001b[1m21s\u001b[0m 183ms/step - loss: 0.1255 - peak_signal_noise_ratio: 66.0926 - val_loss: 0.1022 - val_peak_signal_noise_ratio: 67.2778 - learning_rate: 5.0000e-05\n",
            "Epoch 24/50\n",
            "\u001b[1m75/75\u001b[0m \u001b[32m━━━━━━━━━━━━━━━━━━━━\u001b[0m\u001b[37m\u001b[0m \u001b[1m0s\u001b[0m 149ms/step - loss: 0.1295 - peak_signal_noise_ratio: 65.7890\n",
            "Epoch 24: ReduceLROnPlateau reducing learning rate to 2.499999936844688e-05.\n",
            "\u001b[1m75/75\u001b[0m \u001b[32m━━━━━━━━━━━━━━━━━━━━\u001b[0m\u001b[37m\u001b[0m \u001b[1m20s\u001b[0m 176ms/step - loss: 0.1295 - peak_signal_noise_ratio: 65.7882 - val_loss: 0.1085 - val_peak_signal_noise_ratio: 66.8650 - learning_rate: 5.0000e-05\n",
            "Epoch 25/50\n",
            "\u001b[1m75/75\u001b[0m \u001b[32m━━━━━━━━━━━━━━━━━━━━\u001b[0m\u001b[37m\u001b[0m \u001b[1m21s\u001b[0m 184ms/step - loss: 0.1240 - peak_signal_noise_ratio: 66.1694 - val_loss: 0.1048 - val_peak_signal_noise_ratio: 67.1851 - learning_rate: 2.5000e-05\n",
            "Epoch 26/50\n",
            "\u001b[1m75/75\u001b[0m \u001b[32m━━━━━━━━━━━━━━━━━━━━\u001b[0m\u001b[37m\u001b[0m \u001b[1m21s\u001b[0m 183ms/step - loss: 0.1236 - peak_signal_noise_ratio: 66.2601 - val_loss: 0.1075 - val_peak_signal_noise_ratio: 66.8030 - learning_rate: 2.5000e-05\n",
            "Epoch 27/50\n",
            "\u001b[1m75/75\u001b[0m \u001b[32m━━━━━━━━━━━━━━━━━━━━\u001b[0m\u001b[37m\u001b[0m \u001b[1m21s\u001b[0m 185ms/step - loss: 0.1222 - peak_signal_noise_ratio: 66.2178 - val_loss: 0.1090 - val_peak_signal_noise_ratio: 66.8820 - learning_rate: 2.5000e-05\n",
            "Epoch 28/50\n",
            "\u001b[1m75/75\u001b[0m \u001b[32m━━━━━━━━━━━━━━━━━━━━\u001b[0m\u001b[37m\u001b[0m \u001b[1m13s\u001b[0m 176ms/step - loss: 0.1199 - peak_signal_noise_ratio: 66.2693 - val_loss: 0.1121 - val_peak_signal_noise_ratio: 66.5692 - learning_rate: 2.5000e-05\n",
            "Epoch 29/50\n",
            "\u001b[1m75/75\u001b[0m \u001b[32m━━━━━━━━━━━━━━━━━━━━\u001b[0m\u001b[37m\u001b[0m \u001b[1m0s\u001b[0m 148ms/step - loss: 0.1265 - peak_signal_noise_ratio: 65.9953\n",
            "Epoch 29: ReduceLROnPlateau reducing learning rate to 1.249999968422344e-05.\n",
            "\u001b[1m75/75\u001b[0m \u001b[32m━━━━━━━━━━━━━━━━━━━━\u001b[0m\u001b[37m\u001b[0m \u001b[1m21s\u001b[0m 183ms/step - loss: 0.1265 - peak_signal_noise_ratio: 65.9967 - val_loss: 0.1098 - val_peak_signal_noise_ratio: 66.8712 - learning_rate: 2.5000e-05\n",
            "Epoch 30/50\n",
            "\u001b[1m75/75\u001b[0m \u001b[32m━━━━━━━━━━━━━━━━━━━━\u001b[0m\u001b[37m\u001b[0m \u001b[1m21s\u001b[0m 188ms/step - loss: 0.1282 - peak_signal_noise_ratio: 65.8194 - val_loss: 0.1093 - val_peak_signal_noise_ratio: 66.8806 - learning_rate: 1.2500e-05\n",
            "Epoch 31/50\n",
            "\u001b[1m75/75\u001b[0m \u001b[32m━━━━━━━━━━━━━━━━━━━━\u001b[0m\u001b[37m\u001b[0m \u001b[1m14s\u001b[0m 183ms/step - loss: 0.1178 - peak_signal_noise_ratio: 66.5092 - val_loss: 0.1029 - val_peak_signal_noise_ratio: 67.2857 - learning_rate: 1.2500e-05\n",
            "Epoch 32/50\n",
            "\u001b[1m75/75\u001b[0m \u001b[32m━━━━━━━━━━━━━━━━━━━━\u001b[0m\u001b[37m\u001b[0m \u001b[1m21s\u001b[0m 185ms/step - loss: 0.1103 - peak_signal_noise_ratio: 66.7508 - val_loss: 0.1092 - val_peak_signal_noise_ratio: 66.9807 - learning_rate: 1.2500e-05\n",
            "Epoch 33/50\n",
            "\u001b[1m75/75\u001b[0m \u001b[32m━━━━━━━━━━━━━━━━━━━━\u001b[0m\u001b[37m\u001b[0m \u001b[1m20s\u001b[0m 182ms/step - loss: 0.1207 - peak_signal_noise_ratio: 66.3536 - val_loss: 0.1105 - val_peak_signal_noise_ratio: 66.8159 - learning_rate: 1.2500e-05\n",
            "Epoch 34/50\n",
            "\u001b[1m75/75\u001b[0m \u001b[32m━━━━━━━━━━━━━━━━━━━━\u001b[0m\u001b[37m\u001b[0m \u001b[1m0s\u001b[0m 146ms/step - loss: 0.1176 - peak_signal_noise_ratio: 66.4835\n",
            "Epoch 34: ReduceLROnPlateau reducing learning rate to 6.24999984211172e-06.\n",
            "\u001b[1m75/75\u001b[0m \u001b[32m━━━━━━━━━━━━━━━━━━━━\u001b[0m\u001b[37m\u001b[0m \u001b[1m20s\u001b[0m 181ms/step - loss: 0.1175 - peak_signal_noise_ratio: 66.4840 - val_loss: 0.1066 - val_peak_signal_noise_ratio: 67.0993 - learning_rate: 1.2500e-05\n",
            "Epoch 35/50\n",
            "\u001b[1m75/75\u001b[0m \u001b[32m━━━━━━━━━━━━━━━━━━━━\u001b[0m\u001b[37m\u001b[0m \u001b[1m14s\u001b[0m 185ms/step - loss: 0.1127 - peak_signal_noise_ratio: 66.6751 - val_loss: 0.1138 - val_peak_signal_noise_ratio: 66.8076 - learning_rate: 6.2500e-06\n",
            "Epoch 36/50\n",
            "\u001b[1m75/75\u001b[0m \u001b[32m━━━━━━━━━━━━━━━━━━━━\u001b[0m\u001b[37m\u001b[0m \u001b[1m20s\u001b[0m 178ms/step - loss: 0.1112 - peak_signal_noise_ratio: 66.8209 - val_loss: 0.1125 - val_peak_signal_noise_ratio: 66.8160 - learning_rate: 6.2500e-06\n",
            "Epoch 37/50\n",
            "\u001b[1m75/75\u001b[0m \u001b[32m━━━━━━━━━━━━━━━━━━━━\u001b[0m\u001b[37m\u001b[0m \u001b[1m21s\u001b[0m 185ms/step - loss: 0.1193 - peak_signal_noise_ratio: 66.3288 - val_loss: 0.1138 - val_peak_signal_noise_ratio: 66.6698 - learning_rate: 6.2500e-06\n",
            "Epoch 38/50\n",
            "\u001b[1m75/75\u001b[0m \u001b[32m━━━━━━━━━━━━━━━━━━━━\u001b[0m\u001b[37m\u001b[0m \u001b[1m20s\u001b[0m 181ms/step - loss: 0.1144 - peak_signal_noise_ratio: 66.7981 - val_loss: 0.1106 - val_peak_signal_noise_ratio: 66.9000 - learning_rate: 6.2500e-06\n",
            "Epoch 39/50\n",
            "\u001b[1m75/75\u001b[0m \u001b[32m━━━━━━━━━━━━━━━━━━━━\u001b[0m\u001b[37m\u001b[0m \u001b[1m0s\u001b[0m 152ms/step - loss: 0.1141 - peak_signal_noise_ratio: 66.7330\n",
            "Epoch 39: ReduceLROnPlateau reducing learning rate to 3.12499992105586e-06.\n",
            "\u001b[1m75/75\u001b[0m \u001b[32m━━━━━━━━━━━━━━━━━━━━\u001b[0m\u001b[37m\u001b[0m \u001b[1m14s\u001b[0m 180ms/step - loss: 0.1141 - peak_signal_noise_ratio: 66.7315 - val_loss: 0.1166 - val_peak_signal_noise_ratio: 66.4913 - learning_rate: 6.2500e-06\n",
            "Epoch 40/50\n",
            "\u001b[1m75/75\u001b[0m \u001b[32m━━━━━━━━━━━━━━━━━━━━\u001b[0m\u001b[37m\u001b[0m \u001b[1m23s\u001b[0m 216ms/step - loss: 0.1154 - peak_signal_noise_ratio: 66.7611 - val_loss: 0.1137 - val_peak_signal_noise_ratio: 66.6414 - learning_rate: 3.1250e-06\n",
            "Epoch 41/50\n",
            "\u001b[1m75/75\u001b[0m \u001b[32m━━━━━━━━━━━━━━━━━━━━\u001b[0m\u001b[37m\u001b[0m \u001b[1m18s\u001b[0m 187ms/step - loss: 0.1175 - peak_signal_noise_ratio: 66.5433 - val_loss: 0.1111 - val_peak_signal_noise_ratio: 66.9559 - learning_rate: 3.1250e-06\n",
            "Epoch 42/50\n",
            "\u001b[1m75/75\u001b[0m \u001b[32m━━━━━━━━━━━━━━━━━━━━\u001b[0m\u001b[37m\u001b[0m \u001b[1m14s\u001b[0m 185ms/step - loss: 0.1189 - peak_signal_noise_ratio: 66.6799 - val_loss: 0.1097 - val_peak_signal_noise_ratio: 66.9482 - learning_rate: 3.1250e-06\n",
            "Epoch 43/50\n",
            "\u001b[1m75/75\u001b[0m \u001b[32m━━━━━━━━━━━━━━━━━━━━\u001b[0m\u001b[37m\u001b[0m \u001b[1m21s\u001b[0m 185ms/step - loss: 0.1077 - peak_signal_noise_ratio: 67.0075 - val_loss: 0.1135 - val_peak_signal_noise_ratio: 66.7776 - learning_rate: 3.1250e-06\n",
            "Epoch 44/50\n",
            "\u001b[1m75/75\u001b[0m \u001b[32m━━━━━━━━━━━━━━━━━━━━\u001b[0m\u001b[37m\u001b[0m \u001b[1m0s\u001b[0m 145ms/step - loss: 0.1108 - peak_signal_noise_ratio: 66.9952\n",
            "Epoch 44: ReduceLROnPlateau reducing learning rate to 1.56249996052793e-06.\n",
            "\u001b[1m75/75\u001b[0m \u001b[32m━━━━━━━━━━━━━━━━━━━━\u001b[0m\u001b[37m\u001b[0m \u001b[1m23s\u001b[0m 215ms/step - loss: 0.1108 - peak_signal_noise_ratio: 66.9933 - val_loss: 0.1080 - val_peak_signal_noise_ratio: 67.1414 - learning_rate: 3.1250e-06\n",
            "Epoch 45/50\n",
            "\u001b[1m75/75\u001b[0m \u001b[32m━━━━━━━━━━━━━━━━━━━━\u001b[0m\u001b[37m\u001b[0m \u001b[1m18s\u001b[0m 184ms/step - loss: 0.1217 - peak_signal_noise_ratio: 66.2907 - val_loss: 0.1118 - val_peak_signal_noise_ratio: 66.8920 - learning_rate: 1.5625e-06\n",
            "Epoch 46/50\n",
            "\u001b[1m75/75\u001b[0m \u001b[32m━━━━━━━━━━━━━━━━━━━━\u001b[0m\u001b[37m\u001b[0m \u001b[1m20s\u001b[0m 184ms/step - loss: 0.1132 - peak_signal_noise_ratio: 66.7103 - val_loss: 0.1101 - val_peak_signal_noise_ratio: 66.9871 - learning_rate: 1.5625e-06\n",
            "Epoch 47/50\n",
            "\u001b[1m75/75\u001b[0m \u001b[32m━━━━━━━━━━━━━━━━━━━━\u001b[0m\u001b[37m\u001b[0m \u001b[1m20s\u001b[0m 183ms/step - loss: 0.1150 - peak_signal_noise_ratio: 66.7579 - val_loss: 0.1168 - val_peak_signal_noise_ratio: 66.4829 - learning_rate: 1.5625e-06\n",
            "Epoch 48/50\n",
            "\u001b[1m75/75\u001b[0m \u001b[32m━━━━━━━━━━━━━━━━━━━━\u001b[0m\u001b[37m\u001b[0m \u001b[1m21s\u001b[0m 184ms/step - loss: 0.1056 - peak_signal_noise_ratio: 67.2271 - val_loss: 0.1144 - val_peak_signal_noise_ratio: 66.7005 - learning_rate: 1.5625e-06\n",
            "Epoch 49/50\n",
            "\u001b[1m75/75\u001b[0m \u001b[32m━━━━━━━━━━━━━━━━━━━━\u001b[0m\u001b[37m\u001b[0m \u001b[1m0s\u001b[0m 151ms/step - loss: 0.1219 - peak_signal_noise_ratio: 66.3512\n",
            "Epoch 49: ReduceLROnPlateau reducing learning rate to 7.81249980263965e-07.\n",
            "\u001b[1m75/75\u001b[0m \u001b[32m━━━━━━━━━━━━━━━━━━━━\u001b[0m\u001b[37m\u001b[0m \u001b[1m21s\u001b[0m 186ms/step - loss: 0.1219 - peak_signal_noise_ratio: 66.3522 - val_loss: 0.1135 - val_peak_signal_noise_ratio: 66.7458 - learning_rate: 1.5625e-06\n",
            "Epoch 50/50\n",
            "\u001b[1m75/75\u001b[0m \u001b[32m━━━━━━━━━━━━━━━━━━━━\u001b[0m\u001b[37m\u001b[0m \u001b[1m20s\u001b[0m 179ms/step - loss: 0.1119 - peak_signal_noise_ratio: 66.9206 - val_loss: 0.1132 - val_peak_signal_noise_ratio: 66.7430 - learning_rate: 7.8125e-07\n",
            "Figure(640x480)\n",
            "Figure(640x480)\n",
            "Figure(2000x1200)\n",
            "Figure(2000x1200)\n",
            "Figure(2000x1200)\n",
            "Figure(2000x1200)\n",
            "Figure(2000x1200)\n",
            "Figure(2000x1200)\n",
            "Figure(2000x1200)\n",
            "Figure(2000x1200)\n",
            "Figure(2000x1200)\n",
            "Figure(2000x1200)\n",
            "Figure(2000x1200)\n",
            "Figure(2000x1200)\n",
            "Figure(2000x1200)\n",
            "Figure(2000x1200)\n",
            "Figure(2000x1200)\n"
          ]
        }
      ]
    },
    {
      "cell_type": "code",
      "source": [
        "!ls\n"
      ],
      "metadata": {
        "colab": {
          "base_uri": "https://localhost:8080/"
        },
        "id": "Xbw6v_O-y0cu",
        "outputId": "617c579d-5212-4043-ca2c-ee0b3a6def02"
      },
      "execution_count": null,
      "outputs": [
        {
          "output_type": "stream",
          "name": "stdout",
          "text": [
            "data\t   lol_dataset\tmodel\t     requirements.txt  train\n",
            "inference  main.py\t__pycache__  test\n"
          ]
        }
      ]
    },
    {
      "cell_type": "code",
      "source": [
        "!ls model/\n"
      ],
      "metadata": {
        "colab": {
          "base_uri": "https://localhost:8080/"
        },
        "id": "kwVGSLRNzah6",
        "outputId": "e3609302-f8f0-4e17-a60f-b970e2f5d485"
      },
      "execution_count": null,
      "outputs": [
        {
          "output_type": "stream",
          "name": "stdout",
          "text": [
            "mirnet.py  __pycache__\n"
          ]
        }
      ]
    },
    {
      "cell_type": "code",
      "source": [
        "!ls test/predicted/\n"
      ],
      "metadata": {
        "colab": {
          "base_uri": "https://localhost:8080/"
        },
        "id": "nRGkYAjN1eli",
        "outputId": "f4121c35-315d-4533-ea4f-7651fc7f235d"
      },
      "execution_count": null,
      "outputs": [
        {
          "output_type": "stream",
          "name": "stdout",
          "text": [
            "111.png  179.png  22.png  493.png  55.png   669.png  778.png  79.png\n",
            "146.png  1.png\t  23.png  547.png  665.png  748.png  780.png\n"
          ]
        }
      ]
    },
    {
      "cell_type": "code",
      "source": [
        "!zip -r enhanced_images.zip test/predicted/\n"
      ],
      "metadata": {
        "colab": {
          "base_uri": "https://localhost:8080/"
        },
        "id": "hUNuPXET1mNy",
        "outputId": "918cd53b-4691-44da-93a5-e7d07e12b9ea"
      },
      "execution_count": null,
      "outputs": [
        {
          "output_type": "stream",
          "name": "stdout",
          "text": [
            "  adding: test/predicted/ (stored 0%)\n",
            "  adding: test/predicted/22.png (deflated 0%)\n",
            "  adding: test/predicted/179.png (deflated 0%)\n",
            "  adding: test/predicted/111.png (deflated 0%)\n",
            "  adding: test/predicted/493.png (deflated 0%)\n",
            "  adding: test/predicted/547.png (deflated 0%)\n",
            "  adding: test/predicted/23.png (deflated 0%)\n",
            "  adding: test/predicted/1.png (deflated 0%)\n",
            "  adding: test/predicted/748.png (deflated 0%)\n",
            "  adding: test/predicted/665.png (deflated 0%)\n",
            "  adding: test/predicted/780.png (deflated 0%)\n",
            "  adding: test/predicted/669.png (deflated 0%)\n",
            "  adding: test/predicted/778.png (deflated 0%)\n",
            "  adding: test/predicted/55.png (deflated 0%)\n",
            "  adding: test/predicted/79.png (deflated 0%)\n",
            "  adding: test/predicted/146.png (deflated 0%)\n"
          ]
        }
      ]
    },
    {
      "cell_type": "code",
      "source": [
        "from google.colab import files\n",
        "files.download(\"enhanced_images.zip\")\n"
      ],
      "metadata": {
        "colab": {
          "base_uri": "https://localhost:8080/",
          "height": 17
        },
        "id": "Ao23E_0T1oWh",
        "outputId": "1816f381-1ca1-4bd3-a359-52a6b7049ed4"
      },
      "execution_count": null,
      "outputs": [
        {
          "output_type": "display_data",
          "data": {
            "text/plain": [
              "<IPython.core.display.Javascript object>"
            ],
            "application/javascript": [
              "\n",
              "    async function download(id, filename, size) {\n",
              "      if (!google.colab.kernel.accessAllowed) {\n",
              "        return;\n",
              "      }\n",
              "      const div = document.createElement('div');\n",
              "      const label = document.createElement('label');\n",
              "      label.textContent = `Downloading \"${filename}\": `;\n",
              "      div.appendChild(label);\n",
              "      const progress = document.createElement('progress');\n",
              "      progress.max = size;\n",
              "      div.appendChild(progress);\n",
              "      document.body.appendChild(div);\n",
              "\n",
              "      const buffers = [];\n",
              "      let downloaded = 0;\n",
              "\n",
              "      const channel = await google.colab.kernel.comms.open(id);\n",
              "      // Send a message to notify the kernel that we're ready.\n",
              "      channel.send({})\n",
              "\n",
              "      for await (const message of channel.messages) {\n",
              "        // Send a message to notify the kernel that we're ready.\n",
              "        channel.send({})\n",
              "        if (message.buffers) {\n",
              "          for (const buffer of message.buffers) {\n",
              "            buffers.push(buffer);\n",
              "            downloaded += buffer.byteLength;\n",
              "            progress.value = downloaded;\n",
              "          }\n",
              "        }\n",
              "      }\n",
              "      const blob = new Blob(buffers, {type: 'application/binary'});\n",
              "      const a = document.createElement('a');\n",
              "      a.href = window.URL.createObjectURL(blob);\n",
              "      a.download = filename;\n",
              "      div.appendChild(a);\n",
              "      a.click();\n",
              "      div.remove();\n",
              "    }\n",
              "  "
            ]
          },
          "metadata": {}
        },
        {
          "output_type": "display_data",
          "data": {
            "text/plain": [
              "<IPython.core.display.Javascript object>"
            ],
            "application/javascript": [
              "download(\"download_d6f54e74-5f55-4f07-992f-0a773c75117e\", \"enhanced_images.zip\", 5738930)"
            ]
          },
          "metadata": {}
        }
      ]
    }
  ]
}